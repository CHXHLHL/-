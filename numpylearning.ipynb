{
 "cells": [
  {
   "cell_type": "markdown",
   "metadata": {
    "heading_collapsed": true
   },
   "source": [
    "# numpy小白教程"
   ]
  },
  {
   "cell_type": "markdown",
   "metadata": {
    "heading_collapsed": true,
    "hidden": true
   },
   "source": [
    "## 导入numpy"
   ]
  },
  {
   "cell_type": "code",
   "execution_count": 1,
   "metadata": {
    "hidden": true
   },
   "outputs": [],
   "source": [
    "import numpy \n",
    "#最常用\n",
    "import numpy as np\n",
    "from numpy import *\n",
    "from numpy import cos"
   ]
  },
  {
   "cell_type": "markdown",
   "metadata": {
    "heading_collapsed": true,
    "hidden": true
   },
   "source": [
    "## 一维数组"
   ]
  },
  {
   "cell_type": "markdown",
   "metadata": {
    "heading_collapsed": true,
    "hidden": true
   },
   "source": [
    "### 一维数组的创建"
   ]
  },
  {
   "cell_type": "markdown",
   "metadata": {
    "heading_collapsed": true,
    "hidden": true
   },
   "source": [
    "#### 无指定类型创建"
   ]
  },
  {
   "cell_type": "code",
   "execution_count": 2,
   "metadata": {
    "hidden": true
   },
   "outputs": [
    {
     "name": "stdout",
     "output_type": "stream",
     "text": [
      "普通方法创建: [1 2 3]\n",
      "arange方法创建: [10 11 12 13 14 15 16 17 18 19]\n",
      "random方法创建 [7 5 8]\n"
     ]
    }
   ],
   "source": [
    "import numpy as np\n",
    "arr1 = np.array([1,2,3])\n",
    "arr2 = np.arange(10,20)\n",
    "arr3 = np.random.randint(1,10,(3,))\n",
    "print('普通方法创建:',arr1)\n",
    "print('arange方法创建:',arr2)\n",
    "print('random方法创建',arr3)"
   ]
  },
  {
   "cell_type": "markdown",
   "metadata": {
    "heading_collapsed": true,
    "hidden": true
   },
   "source": [
    "#### 指定类型创建"
   ]
  },
  {
   "cell_type": "code",
   "execution_count": 3,
   "metadata": {
    "hidden": true
   },
   "outputs": [
    {
     "name": "stdout",
     "output_type": "stream",
     "text": [
      "32位整型数组: [1 2 3]\n",
      "64位浮点型数组: [1.5 2.  3. ]\n",
      "128位复数型数组: [1.+0.j 2.+6.j 3.+0.j]\n"
     ]
    }
   ],
   "source": [
    "import numpy as np\n",
    "#以下dtype的值均为默认值\n",
    "#整型有int8、int16、int32、int64\n",
    "#浮点型有float16、float32、float64\n",
    "#复数型有complex64、complex128\n",
    "arr1 = np.array([1,2,3], dtype='int32')\n",
    "arr2 = np.array([1.5,2,3], dtype='float64')\n",
    "arr3 = np.array([1,2+6j,3], dtype='complex')\n",
    "print('32位整型数组:',arr1)\n",
    "print('64位浮点型数组:',arr2)\n",
    "print('128位复数型数组:',arr3)"
   ]
  },
  {
   "cell_type": "markdown",
   "metadata": {
    "heading_collapsed": true,
    "hidden": true
   },
   "source": [
    "### 一维数组的各种属性"
   ]
  },
  {
   "cell_type": "code",
   "execution_count": 4,
   "metadata": {
    "hidden": true
   },
   "outputs": [
    {
     "name": "stdout",
     "output_type": "stream",
     "text": [
      "<class 'numpy.ndarray'>\n",
      "int32\n",
      "(5,)\n",
      "5\n",
      "1\n",
      "4\n"
     ]
    }
   ],
   "source": [
    "import numpy as np\n",
    "arr = np.array([1,2,3,4,5])\n",
    "#数组的类型\n",
    "print(type(arr))\n",
    "#数组中元素数据类型\n",
    "print(arr.dtype)\n",
    "#数组的大小\n",
    "print(arr.shape)\n",
    "#数组的元素个数\n",
    "print(arr.size)\n",
    "#数组的维度\n",
    "print(arr.ndim)\n",
    "#数组中每个元素的字节大小，因为这里是int32，所以字节大小是32/8\n",
    "print(arr.itemsize)"
   ]
  },
  {
   "cell_type": "markdown",
   "metadata": {
    "heading_collapsed": true,
    "hidden": true
   },
   "source": [
    "### 数组元素类型的转换"
   ]
  },
  {
   "cell_type": "code",
   "execution_count": 5,
   "metadata": {
    "hidden": true
   },
   "outputs": [
    {
     "name": "stdout",
     "output_type": "stream",
     "text": [
      "[1.5 2.8 3.3]\n",
      "[1 2 8]\n"
     ]
    }
   ],
   "source": [
    "import numpy as np\n",
    "arr1 = np.array([1.5,2.8,3.3],dtype='float64')\n",
    "arr1.astype('int32')\n",
    "arr2 = np.array([1.5,2,8],dtype='float64')\n",
    "arr2 = arr2.astype('int32')\n",
    "print(arr1)\n",
    "print(arr2)"
   ]
  },
  {
   "cell_type": "markdown",
   "metadata": {
    "heading_collapsed": true,
    "hidden": true
   },
   "source": [
    "## 多维数组"
   ]
  },
  {
   "cell_type": "markdown",
   "metadata": {
    "heading_collapsed": true,
    "hidden": true
   },
   "source": [
    "### 多维数组的创建"
   ]
  },
  {
   "cell_type": "code",
   "execution_count": 6,
   "metadata": {
    "hidden": true
   },
   "outputs": [
    {
     "name": "stdout",
     "output_type": "stream",
     "text": [
      "[[1 2 3]\n",
      " [4 5 6]]\n",
      "2\n",
      "[[ 0  1  2  3  4]\n",
      " [ 5  6  7  8  9]\n",
      " [10 11 12 13 14]]\n",
      "(3, 5)\n"
     ]
    }
   ],
   "source": [
    "import numpy as np\n",
    "arr1 = np.array([[1,2,3],[4,5,6]])\n",
    "arr2 = np.arange(15).reshape(3,5)\n",
    "print(arr1)\n",
    "print(arr1.ndim)\n",
    "print(arr2)\n",
    "print(arr2.shape)"
   ]
  },
  {
   "cell_type": "markdown",
   "metadata": {
    "heading_collapsed": true,
    "hidden": true
   },
   "source": [
    "### 特殊多维数组"
   ]
  },
  {
   "cell_type": "code",
   "execution_count": 7,
   "metadata": {
    "hidden": true
   },
   "outputs": [
    {
     "name": "stdout",
     "output_type": "stream",
     "text": [
      "[[0. 0.]\n",
      " [0. 0.]]\n",
      "-----------------------------\n",
      "[[1. 1. 1.]\n",
      " [1. 1. 1.]\n",
      " [1. 1. 1.]]\n",
      "-----------------------------\n",
      "[[0.00000000e+000 0.00000000e+000 0.00000000e+000]\n",
      " [0.00000000e+000 0.00000000e+000 4.44659081e-321]\n",
      " [6.00524809e-312 0.00000000e+000 1.44635488e-307]]\n",
      "-----------------------------\n",
      "[[1. 0. 0.]\n",
      " [0. 1. 0.]\n",
      " [0. 0. 1.]]\n",
      "-----------------------------\n",
      "[[5 5 5]\n",
      " [5 5 5]]\n"
     ]
    }
   ],
   "source": [
    "import numpy as np\n",
    "#两行两列全零数组\n",
    "arr_zero = np.zeros((2,2))\n",
    "#三行三列全一数组\n",
    "arr_one =  np.ones((3,3))\n",
    "#三行三列趋零数组\n",
    "arr_empty = np.empty((3,3))\n",
    "#三行三列对角矩阵，0代表无偏移，1代表向右偏移，每行左边补零，-1则相反。\n",
    "arr_eye = np.eye(3,3,0)\n",
    "#两行三列全5数组\n",
    "arr_full = np.full((2,3),5)\n",
    "print(arr_zero)\n",
    "print('-----------------------------')\n",
    "print(arr_one)\n",
    "print('-----------------------------')\n",
    "print(arr_empty)\n",
    "print('-----------------------------')\n",
    "print(arr_eye)\n",
    "print('-----------------------------')\n",
    "print(arr_full)"
   ]
  },
  {
   "cell_type": "markdown",
   "metadata": {
    "heading_collapsed": true,
    "hidden": true
   },
   "source": [
    "## 数组的运算"
   ]
  },
  {
   "cell_type": "markdown",
   "metadata": {
    "heading_collapsed": true,
    "hidden": true
   },
   "source": [
    "### 一维数组"
   ]
  },
  {
   "cell_type": "markdown",
   "metadata": {
    "heading_collapsed": true,
    "hidden": true
   },
   "source": [
    "#### 数组与数字的运算"
   ]
  },
  {
   "cell_type": "code",
   "execution_count": 8,
   "metadata": {
    "hidden": true
   },
   "outputs": [
    {
     "name": "stdout",
     "output_type": "stream",
     "text": [
      "[2 3 4 5 6]\n",
      "[ 2  4  6  8 10]\n"
     ]
    }
   ],
   "source": [
    "import numpy as np\n",
    "arr = np.arange(1,6)\n",
    "print(arr+1)\n",
    "print(arr*2)"
   ]
  },
  {
   "cell_type": "code",
   "execution_count": 9,
   "metadata": {
    "hidden": true
   },
   "outputs": [],
   "source": [
    "#列表不可以进行此操作\n",
    "# print([1,2,3]+1)"
   ]
  },
  {
   "cell_type": "code",
   "execution_count": 10,
   "metadata": {
    "hidden": true
   },
   "outputs": [
    {
     "name": "stdout",
     "output_type": "stream",
     "text": [
      "6\n",
      "6\n"
     ]
    }
   ],
   "source": [
    "#数组求和\n",
    "import numpy as np\n",
    "arr = np.array([1,2,3])\n",
    "print(arr.sum())\n",
    "print(sum(arr))"
   ]
  },
  {
   "cell_type": "markdown",
   "metadata": {
    "heading_collapsed": true,
    "hidden": true
   },
   "source": [
    "#### 数组与数组的运算"
   ]
  },
  {
   "cell_type": "code",
   "execution_count": 11,
   "metadata": {
    "hidden": true
   },
   "outputs": [
    {
     "name": "stdout",
     "output_type": "stream",
     "text": [
      "[5 7 9]\n",
      "[ 4 10 18]\n"
     ]
    }
   ],
   "source": [
    "import numpy as np\n",
    "arr1 = np.array([1,2,3])\n",
    "arr2 = np.array([4,5,6])\n",
    "arr3 = np.array([4,5,6,7])\n",
    "print(arr1+arr2)\n",
    "print(arr1*arr2)\n",
    "# 行元素的个数不相同，不可以相加或相乘\n",
    "# print(arr1+arr3)\n",
    "# print(arr1*arr3)"
   ]
  },
  {
   "cell_type": "code",
   "execution_count": 12,
   "metadata": {
    "hidden": true
   },
   "outputs": [
    {
     "name": "stdout",
     "output_type": "stream",
     "text": [
      "[[2 4 6]\n",
      " [5 7 9]]\n"
     ]
    }
   ],
   "source": [
    "import numpy as np\n",
    "arr1 = np.array([1,2,3])\n",
    "arr2 = np.array([[1,2,3],[4,5,6]])\n",
    "arr3 = np.array([[1,2,3],[4,5,6,7]])\n",
    "print(arr1+arr2)\n",
    "# 行元素的个数不相同，不可以相乘\n",
    "# print(arr1+arr3)"
   ]
  },
  {
   "cell_type": "code",
   "execution_count": 13,
   "metadata": {
    "hidden": true
   },
   "outputs": [
    {
     "name": "stdout",
     "output_type": "stream",
     "text": [
      "[[[ 1  4  9]\n",
      "  [ 4 10 18]]\n",
      "\n",
      " [[ 1  4  9]\n",
      "  [ 4 10 18]]]\n"
     ]
    }
   ],
   "source": [
    "import numpy as np\n",
    "arr1 = np.array([1,2,3])\n",
    "arr2 = np.array([[[1,2,3],[4,5,6]],[[1,2,3],[4,5,6]]])\n",
    "arr3 = np.array([[1,2,3],[4,5,6,7]])\n",
    "print(arr1*arr2)\n",
    "# 行元素的个数不相同，不可以相乘\n",
    "# print(arr1*arr3)"
   ]
  },
  {
   "cell_type": "markdown",
   "metadata": {
    "heading_collapsed": true,
    "hidden": true
   },
   "source": [
    "### 二维数组"
   ]
  },
  {
   "cell_type": "markdown",
   "metadata": {
    "heading_collapsed": true,
    "hidden": true
   },
   "source": [
    "#### 数组与数字的运算"
   ]
  },
  {
   "cell_type": "code",
   "execution_count": 14,
   "metadata": {
    "hidden": true
   },
   "outputs": [
    {
     "name": "stdout",
     "output_type": "stream",
     "text": [
      "[[1 2 3]\n",
      " [4 5 6]\n",
      " [7 8 9]]\n"
     ]
    }
   ],
   "source": [
    "\n",
    "import numpy as np\n",
    "arr = np.arange(9).reshape(3,3)\n",
    "print(arr+1)"
   ]
  },
  {
   "cell_type": "markdown",
   "metadata": {
    "heading_collapsed": true,
    "hidden": true
   },
   "source": [
    "#### 数组与数组的运算"
   ]
  },
  {
   "cell_type": "code",
   "execution_count": 15,
   "metadata": {
    "hidden": true
   },
   "outputs": [
    {
     "name": "stdout",
     "output_type": "stream",
     "text": [
      "[[0 1]\n",
      " [2 3]]\n",
      "---------------\n",
      "[[2 3]\n",
      " [4 5]]\n",
      "---------------\n"
     ]
    }
   ],
   "source": [
    "import numpy as np\n",
    "arr1 = np.arange(4).reshape(2,2)\n",
    "arr2 = np.arange(2,6).reshape(2,2)\n",
    "arr3 = np.arange(1,7).reshape(2,3)\n",
    "print(arr1)\n",
    "print('---------------')\n",
    "print(arr2)\n",
    "print('---------------')\n",
    "#形状不同的两个数组不可以相加或相乘\n",
    "# print(arr1*arr2)\n",
    "# print(arr1*arr3)"
   ]
  },
  {
   "cell_type": "markdown",
   "metadata": {
    "heading_collapsed": true,
    "hidden": true
   },
   "source": [
    "## 数组的索引与切片"
   ]
  },
  {
   "cell_type": "markdown",
   "metadata": {
    "heading_collapsed": true,
    "hidden": true
   },
   "source": [
    "### 索引"
   ]
  },
  {
   "cell_type": "markdown",
   "metadata": {
    "heading_collapsed": true,
    "hidden": true
   },
   "source": [
    "#### 一维"
   ]
  },
  {
   "cell_type": "code",
   "execution_count": 16,
   "metadata": {
    "hidden": true
   },
   "outputs": [
    {
     "name": "stdout",
     "output_type": "stream",
     "text": [
      "[0 1 2 3 4 5 6 7 8 9]\n",
      "6\n",
      "8\n"
     ]
    }
   ],
   "source": [
    "#和列表中的索引一样\n",
    "import numpy as np\n",
    "arr = np.arange(10)\n",
    "print(arr)\n",
    "print(arr[6])\n",
    "print(arr[-2])"
   ]
  },
  {
   "cell_type": "markdown",
   "metadata": {
    "heading_collapsed": true,
    "hidden": true
   },
   "source": [
    "#### 多维"
   ]
  },
  {
   "cell_type": "markdown",
   "metadata": {
    "heading_collapsed": true,
    "hidden": true
   },
   "source": [
    "##### 普通索引"
   ]
  },
  {
   "cell_type": "code",
   "execution_count": 17,
   "metadata": {
    "hidden": true
   },
   "outputs": [
    {
     "name": "stdout",
     "output_type": "stream",
     "text": [
      "[[0 1 2]\n",
      " [3 4 5]\n",
      " [6 7 8]]\n",
      "------------\n",
      "[3 4 5]\n",
      "4\n",
      "------------\n",
      "[[[0 1]\n",
      "  [2 3]]\n",
      "\n",
      " [[4 5]\n",
      "  [6 7]]]\n",
      "------------\n",
      "5\n"
     ]
    }
   ],
   "source": [
    "import numpy as np\n",
    "#二维\n",
    "arr1 = np.arange(9).reshape(3,3)\n",
    "#三维\n",
    "arr2 = np.arange(8).reshape(2,2,2)\n",
    "print(arr1)\n",
    "print('------------')\n",
    "print(arr1[1])\n",
    "print(arr1[1,1])#相当于arr1[1][1]\n",
    "print('------------')\n",
    "print(arr2)\n",
    "print('------------')\n",
    "print(arr2[1,0,1])#相当于arr2[1][0][1]"
   ]
  },
  {
   "cell_type": "markdown",
   "metadata": {
    "heading_collapsed": true,
    "hidden": true
   },
   "source": [
    "##### 布尔索引"
   ]
  },
  {
   "cell_type": "code",
   "execution_count": 18,
   "metadata": {
    "hidden": true
   },
   "outputs": [
    {
     "name": "stdout",
     "output_type": "stream",
     "text": [
      "[ True False  True False]\n",
      "[1 3]\n",
      "[2 4]\n",
      "[1 2 3]\n",
      "[2 6]\n",
      "[[2 3 4]\n",
      " [6 8 2]]\n"
     ]
    }
   ],
   "source": [
    "import numpy as np\n",
    "arr1 = np.array([1,4,1,5])\n",
    "#等于1的位置为True，否则为False\n",
    "print(arr1==1)\n",
    "arr2 = np.array([1,2,3,4])\n",
    "arr3 = np.array([[1,2,3,4],[5,7,9,6],[3,6,8,2],[4,9,3,1]])\n",
    "'''因为[arr==1]的True在位置0、2，故取arr2\n",
    "中的第0、2个数，二维则取第0、2行，依次类推,\n",
    "arr2的元素个数或者行数(更高维度依次类推)必须\n",
    "与arr1的元素个数相同\n",
    "'''\n",
    "print(arr2[arr1==1])\n",
    "print(arr2[arr1>2])\n",
    "#arr1==1或者arr1==4的行\n",
    "print(arr2[(arr1==1)|(arr1==4)])\n",
    "#取0、2行的第一个数\n",
    "print(arr3[arr1==1,1])\n",
    "#取0、2行的第一到第三个数\n",
    "print(arr3[arr1==1,1:4])"
   ]
  },
  {
   "cell_type": "markdown",
   "metadata": {
    "heading_collapsed": true,
    "hidden": true
   },
   "source": [
    "##### 花式索引"
   ]
  },
  {
   "cell_type": "code",
   "execution_count": 19,
   "metadata": {
    "hidden": true
   },
   "outputs": [
    {
     "name": "stdout",
     "output_type": "stream",
     "text": [
      "[4 3 6]\n",
      "-------------\n",
      "[[3 7 4]\n",
      " [7 6 8]\n",
      " [9 1 0]]\n",
      "-------------\n",
      "[4 5 1]\n"
     ]
    }
   ],
   "source": [
    "import numpy as np\n",
    "arr1 = np.array([2,4,3,9,6])\n",
    "arr2 = np.array([[1,3,7],[5,8,9],[3,7,4],[7,6,8],[9,1,0],[2,0,5]])\n",
    "#第一二四个\n",
    "print(arr1[[1,2,4]])\n",
    "print('-------------')\n",
    "#第二三四行\n",
    "print(arr2[[2,3,4]])\n",
    "print('-------------')\n",
    "#第二行第二个，第一行第零个，第四行第一个\n",
    "print(arr2[[2,1,4],[2,0,1]])"
   ]
  },
  {
   "cell_type": "markdown",
   "metadata": {
    "heading_collapsed": true,
    "hidden": true
   },
   "source": [
    "### 切片"
   ]
  },
  {
   "cell_type": "markdown",
   "metadata": {
    "heading_collapsed": true,
    "hidden": true
   },
   "source": [
    "#### 一维"
   ]
  },
  {
   "cell_type": "code",
   "execution_count": 20,
   "metadata": {
    "hidden": true
   },
   "outputs": [
    {
     "name": "stdout",
     "output_type": "stream",
     "text": [
      "[0 1 2 3 4 5 6 7 8 9]\n",
      "------------\n",
      "arr[:]的值为： [0 1 2 3 4 5 6 7 8 9]\n",
      "arr[1:]的值为： [1 2 3 4]\n",
      "[2 3 4 5 6 7 8 9]\n",
      "arr[1:5:2]的值为 [1 3]\n"
     ]
    }
   ],
   "source": [
    "#基本和列表的切片一样\n",
    "import numpy as np\n",
    "arr = np.arange(10)\n",
    "print(arr)\n",
    "print('------------')\n",
    "print('arr[:]的值为：',arr[:])\n",
    "print('arr[1:]的值为：',arr[1:5])\n",
    "#超过索引值不报错,结果和arr[2:]一致，这和列表有所不同\n",
    "print(arr[2:100])\n",
    "print('arr[1:5:2]的值为',arr[1:5:2])"
   ]
  },
  {
   "cell_type": "markdown",
   "metadata": {
    "heading_collapsed": true,
    "hidden": true
   },
   "source": [
    "#### 多维"
   ]
  },
  {
   "cell_type": "code",
   "execution_count": 21,
   "metadata": {
    "hidden": true
   },
   "outputs": [
    {
     "name": "stdout",
     "output_type": "stream",
     "text": [
      "arr1为:\n",
      " [[0 1 2]\n",
      " [3 4 5]\n",
      " [6 7 8]]\n",
      "-----------------\n",
      "arr1[1:3]的值为：\n",
      " [[3 4 5]\n",
      " [6 7 8]]\n",
      "-----------------\n",
      "arr1[1:3:2]的值为：\n",
      " [[3 4 5]]\n",
      "=================\n",
      "arr2为：\n",
      " [[[ 0  1  2]\n",
      "  [ 3  4  5]]\n",
      "\n",
      " [[ 6  7  8]\n",
      "  [ 9 10 11]]]\n",
      "-----------------\n",
      "arr2[1:]的值为：\n",
      " [[[ 6  7  8]\n",
      "  [ 9 10 11]]]\n"
     ]
    }
   ],
   "source": [
    "import numpy as np\n",
    "arr1 = np.arange(9).reshape(3,3)\n",
    "arr2 = np.arange(12).reshape(2,2,3)\n",
    "print('arr1为:\\n',arr1)\n",
    "print('-----------------')\n",
    "print('arr1[1:3]的值为：\\n',arr1[1:3])\n",
    "print('-----------------')\n",
    "print('arr1[1:3:2]的值为：\\n',arr1[1:3:2])\n",
    "print('=================')\n",
    "print('arr2为：\\n',arr2)\n",
    "print('-----------------')\n",
    "print('arr2[1:]的值为：\\n',arr2[1:])"
   ]
  },
  {
   "cell_type": "code",
   "execution_count": 22,
   "metadata": {
    "hidden": true
   },
   "outputs": [
    {
     "name": "stdout",
     "output_type": "stream",
     "text": [
      "[[ 0  1  2  3  4  5  6  7]\n",
      " [ 8  9 10 11 12 13 14 15]\n",
      " [16 17 18 19 20 21 22 23]\n",
      " [24 25 26 27 28 29 30 31]\n",
      " [32 33 34 35 36 37 38 39]\n",
      " [40 41 42 43 44 45 46 47]\n",
      " [48 49 50 51 52 53 54 55]\n",
      " [56 57 58 59 60 61 62 63]]\n",
      "-------------------------\n",
      "第一行的值为：(数组的维度为1)\n",
      "[0 1 2 3 4 5 6 7]\n",
      "第一行的值为：(数组的维度为2)\n",
      "[[0 1 2 3 4 5 6 7]]\n",
      "第一列的值为：(数组的维度为1)\n",
      "[ 0  8 16 24 32 40 48 56]\n",
      "第一列的值为：(数组的维度为2)\n",
      "[[ 0]\n",
      " [ 8]\n",
      " [16]\n",
      " [24]\n",
      " [32]\n",
      " [40]\n",
      " [48]\n",
      " [56]]\n",
      "第一行的第一到第五个数为: [1 2 3 4 5]\n",
      "-------------------------\n",
      "第一二行和第二三列组成的数组为:\n",
      "[[10 11]\n",
      " [18 19]]\n",
      "第一三行和第二四列交点组成的数组为：\n",
      "[[10 12]\n",
      " [26 28]]\n"
     ]
    }
   ],
   "source": [
    "import numpy as np\n",
    "arr = np.arange(64).reshape(8,8)\n",
    "print(arr)\n",
    "print('-------------------------')\n",
    "print('第一行的值为：(数组的维度为1)')\n",
    "print(arr[0,:])\n",
    "print('第一行的值为：(数组的维度为2)')\n",
    "print(arr[:1,:])\n",
    "print('第一列的值为：(数组的维度为1)')\n",
    "print(arr[:,0])\n",
    "print('第一列的值为：(数组的维度为2)')\n",
    "print(arr[:,:1])\n",
    "print('第一行的第一到第五个数为:',arr[0,1:6])#相当于arr[0][1:6]\n",
    "print('-------------------------')\n",
    "print('第一二行和第二三列组成的数组为:')\n",
    "print(arr[1:3,2:4])\n",
    "print('第一三行和第二四列交点组成的数组为：')\n",
    "print(arr[1:4:2,2:5:2])"
   ]
  },
  {
   "cell_type": "markdown",
   "metadata": {
    "heading_collapsed": true,
    "hidden": true
   },
   "source": [
    "### 更改数组的值"
   ]
  },
  {
   "cell_type": "code",
   "execution_count": 23,
   "metadata": {
    "hidden": true
   },
   "outputs": [
    {
     "name": "stdout",
     "output_type": "stream",
     "text": [
      "[1 2 4]\n",
      "[5 5 3]\n",
      "[1 2 8]\n"
     ]
    }
   ],
   "source": [
    "import numpy as np\n",
    "arr1 = np.array([1,2,3])\n",
    "#为了不改变arr1的数据，复制副本\n",
    "arr1_1 = arr1.copy()\n",
    "arr1_2 = arr1.copy()\n",
    "arr1_1[2]=4\n",
    "arr1_2[:2]=5\n",
    "arr1[2]=8\n",
    "print(arr1_1)\n",
    "print(arr1_2)\n",
    "#arr1的原始数据发生改变\n",
    "print(arr1)"
   ]
  },
  {
   "cell_type": "markdown",
   "metadata": {
    "heading_collapsed": true,
    "hidden": true
   },
   "source": [
    "## 数组中基本的方法和属性"
   ]
  },
  {
   "cell_type": "markdown",
   "metadata": {
    "heading_collapsed": true,
    "hidden": true
   },
   "source": [
    "### 方法"
   ]
  },
  {
   "cell_type": "code",
   "execution_count": 24,
   "metadata": {
    "hidden": true
   },
   "outputs": [
    {
     "name": "stdout",
     "output_type": "stream",
     "text": [
      "------------水平组合--------------\n",
      "[[ 3  5  7  9 10 11]\n",
      " [ 7  9  9 12 13 14]\n",
      " [ 4  3  6 15 16 17]]\n",
      "------------垂直组合--------------\n",
      "[[ 3  5  7]\n",
      " [ 7  9  9]\n",
      " [ 4  3  6]\n",
      " [ 9 10 11]\n",
      " [12 13 14]\n",
      " [15 16 17]]\n",
      "-------------深度组合-------------\n",
      "[[[ 3  9]\n",
      "  [ 5 10]\n",
      "  [ 7 11]]\n",
      "\n",
      " [[ 7 12]\n",
      "  [ 9 13]\n",
      "  [ 9 14]]\n",
      "\n",
      " [[ 4 15]\n",
      "  [ 3 16]\n",
      "  [ 6 17]]]\n"
     ]
    }
   ],
   "source": [
    "import numpy as np\n",
    "#9个大小在[1,10)的元素组成的3*3的数组，reshape为变形方法\n",
    "arr1 = np.random.randint(1,10,9).reshape(3,3)\n",
    "arr2 = np.arange(9,18).reshape(3,3)\n",
    "print('------------水平组合--------------')\n",
    "print(np.hstack((arr1, arr2)))\n",
    "print('------------垂直组合--------------')\n",
    "print(np.vstack((arr1, arr2)))\n",
    "print('-------------深度组合-------------')\n",
    "print(np.dstack((arr1, arr2)))\n"
   ]
  },
  {
   "cell_type": "code",
   "execution_count": 25,
   "metadata": {
    "hidden": true
   },
   "outputs": [
    {
     "name": "stdout",
     "output_type": "stream",
     "text": [
      "-------------按行排序-------------\n",
      "[[3 5 7]\n",
      " [7 9 9]\n",
      " [3 4 6]]\n",
      "-------------按列排序-------------\n",
      "[[3 3 6]\n",
      " [4 5 7]\n",
      " [7 9 9]]\n",
      "-------------排序后返回下标-------------\n",
      "[[0 1 2]\n",
      " [0 1 2]\n",
      " [1 0 2]]\n"
     ]
    }
   ],
   "source": [
    "print('-------------按行排序-------------')\n",
    "print(np.sort(arr1))\n",
    "print('-------------按列排序-------------')\n",
    "print(np.msort(arr1))\n",
    "print('-------------排序后返回下标-------------')\n",
    "print(np.argsort(arr1))"
   ]
  },
  {
   "cell_type": "code",
   "execution_count": 26,
   "metadata": {
    "hidden": true
   },
   "outputs": [
    {
     "name": "stdout",
     "output_type": "stream",
     "text": [
      "-------------平均值-------------\n",
      "5.888888888888889\n",
      "-------------方差---------------\n",
      "4.765432098765432\n",
      "-------------标准差---------------\n",
      "2.1829869671542776\n"
     ]
    }
   ],
   "source": [
    "print('-------------平均值-------------')\n",
    "print(np.mean(arr1))\n",
    "print('-------------方差---------------')\n",
    "print(np.var(arr1))\n",
    "print('-------------标准差---------------')\n",
    "print(np.std(arr1))"
   ]
  },
  {
   "cell_type": "code",
   "execution_count": 27,
   "metadata": {
    "hidden": true
   },
   "outputs": [
    {
     "name": "stdout",
     "output_type": "stream",
     "text": [
      "-------------累乘(每一次的结果)---------------\n",
      "[      3      15     105     735    6615   59535  238140  714420 4286520]\n",
      "-------------累乘(最后结果)---------------\n",
      "4286520\n"
     ]
    }
   ],
   "source": [
    "print('-------------累乘(每一次的结果)---------------')\n",
    "print(arr1.cumprod())\n",
    "print('-------------累乘(最后结果)---------------')\n",
    "print(arr1.prod())"
   ]
  },
  {
   "cell_type": "code",
   "execution_count": 28,
   "metadata": {
    "hidden": true
   },
   "outputs": [
    {
     "name": "stdout",
     "output_type": "stream",
     "text": [
      "-------------返回数组所对应条件的行列组成的数组组成的元组---------------\n",
      "(array([2], dtype=int64), array([0], dtype=int64))\n",
      "-------------返回数组所对应条件的行列组成的数组---------------\n",
      "[[2 0]]\n",
      "-------------返回arr2中满足条件的元素所对应的索引组成的数组，没有条件满足则返回空数组---------------\n",
      "[15]\n"
     ]
    }
   ],
   "source": [
    "print('-------------返回数组所对应条件的行列组成的数组组成的元组---------------')\n",
    "print(np.where(arr1==4))\n",
    "print('-------------返回数组所对应条件的行列组成的数组---------------')\n",
    "print(np.argwhere(arr1==4))\n",
    "print('-------------返回arr2中满足条件的元素所对应的索引组成的数组，没有条件满足则返回空数组---------------')\n",
    "print(np.extract([arr1==4],arr2))"
   ]
  },
  {
   "cell_type": "code",
   "execution_count": 29,
   "metadata": {
    "hidden": true
   },
   "outputs": [
    {
     "name": "stdout",
     "output_type": "stream",
     "text": [
      "-------------点积---------------\n",
      "[[192 207 222]\n",
      " [306 331 356]\n",
      " [162 175 188]]\n",
      "-------------返回数组的正负(1或-1)---------------\n",
      "[[1 1 1]\n",
      " [1 1 1]\n",
      " [1 1 1]]\n",
      "-------------修剪数组---------------\n",
      "[[4 5 7]\n",
      " [7 7 7]\n",
      " [4 4 6]]\n",
      "-------------判断是否为实数---------------\n",
      "[[ True  True  True]\n",
      " [ True  True  True]\n",
      " [ True  True  True]]\n",
      "-------------替换---------------\n",
      "[[0 0 0]\n",
      " [0 0 0]\n",
      " [8 0 0]]\n"
     ]
    }
   ],
   "source": [
    "print('-------------点积---------------')\n",
    "print(np.dot(arr1,arr2))#与arr1*arr2不同\n",
    "print('-------------返回数组的正负(1或-1)---------------')\n",
    "print(np.sign(arr1))\n",
    "print('-------------修剪数组---------------')\n",
    "print(arr1.clip(4,7))#将大于4的元素变为4，不小于7的元素变为7\n",
    "print('-------------判断是否为实数---------------')\n",
    "print(np.isreal(arr1))\n",
    "print('-------------替换---------------')\n",
    "print(np.piecewise(arr1,[arr1==4],[8]))#把4换为8，其它为0"
   ]
  },
  {
   "cell_type": "code",
   "execution_count": 30,
   "metadata": {
    "hidden": true
   },
   "outputs": [
    {
     "name": "stdout",
     "output_type": "stream",
     "text": [
      "<class 'numpy.ndarray'>\n",
      "<class 'list'>\n"
     ]
    }
   ],
   "source": [
    "#数组转列表\n",
    "print(type(arr1))\n",
    "arr1 = arr1.tolist()\n",
    "print(type(arr1))"
   ]
  },
  {
   "cell_type": "markdown",
   "metadata": {
    "heading_collapsed": true,
    "hidden": true
   },
   "source": [
    "### 属性"
   ]
  },
  {
   "cell_type": "code",
   "execution_count": 32,
   "metadata": {
    "hidden": true
   },
   "outputs": [
    {
     "name": "stdout",
     "output_type": "stream",
     "text": [
      "(3, 3)\n",
      "2\n",
      "9\n",
      "4\n",
      "[[1 4 7]\n",
      " [2 5 8]\n",
      " [3 6 9]]\n",
      "---------------------\n",
      "[[5 5 5]\n",
      " [5 5 5]\n",
      " [5 5 5]]\n"
     ]
    }
   ],
   "source": [
    "import numpy as np\n",
    "arr = np.array([[1,2,3],[4,5,6],[7,8,9]])\n",
    "# 数组的大小\n",
    "print(arr.shape)\n",
    "#维度\n",
    "print(arr.ndim)\n",
    "#元素个数\n",
    "print(arr.size)\n",
    "#字节\n",
    "print(arr.itemsize)\n",
    "#转置\n",
    "print(arr.T)\n",
    "print('---------------------')\n",
    "arr.flat=5#数组中的元素被5覆盖,相当于arr1.fill(5)\n",
    "print(arr)"
   ]
  },
  {
   "cell_type": "markdown",
   "metadata": {
    "heading_collapsed": true,
    "hidden": true
   },
   "source": [
    "## 矩阵"
   ]
  },
  {
   "cell_type": "markdown",
   "metadata": {
    "heading_collapsed": true,
    "hidden": true
   },
   "source": [
    "### 矩阵的创建"
   ]
  },
  {
   "cell_type": "code",
   "execution_count": 33,
   "metadata": {
    "hidden": true
   },
   "outputs": [
    {
     "name": "stdout",
     "output_type": "stream",
     "text": [
      "<class 'numpy.matrixlib.defmatrix.matrix'> <class 'numpy.matrixlib.defmatrix.matrix'>\n",
      "[[1 2]\n",
      " [3 4]]\n"
     ]
    }
   ],
   "source": [
    "import numpy as np\n",
    "mat1 = np.mat([[1,2],[4,5]])\n",
    "mat2 = np.matrix([[4,5],[7,8]])\n",
    "mat3 = np.mat('1 2; 3 4')#使用matrix也可以\n",
    "print(type(mat1),type(mat2))\n",
    "print(mat3)"
   ]
  },
  {
   "cell_type": "code",
   "execution_count": 34,
   "metadata": {
    "code_folding": [],
    "hidden": true
   },
   "outputs": [
    {
     "ename": "ValueError",
     "evalue": "matrix must be 2-dimensional",
     "output_type": "error",
     "traceback": [
      "\u001b[1;31m---------------------------------------------------------------------------\u001b[0m",
      "\u001b[1;31mValueError\u001b[0m                                Traceback (most recent call last)",
      "\u001b[1;32m<ipython-input-34-8d33d6f032a6>\u001b[0m in \u001b[0;36m<module>\u001b[1;34m()\u001b[0m\n\u001b[0;32m      1\u001b[0m \u001b[1;31m#矩阵必须是二维的，与数组不同\u001b[0m\u001b[1;33m\u001b[0m\u001b[1;33m\u001b[0m\u001b[0m\n\u001b[0;32m      2\u001b[0m \u001b[1;32mimport\u001b[0m \u001b[0mnumpy\u001b[0m \u001b[1;32mas\u001b[0m \u001b[0mnp\u001b[0m\u001b[1;33m\u001b[0m\u001b[0m\n\u001b[1;32m----> 3\u001b[1;33m \u001b[0mmat\u001b[0m \u001b[1;33m=\u001b[0m \u001b[0mnp\u001b[0m\u001b[1;33m.\u001b[0m\u001b[0mmat\u001b[0m\u001b[1;33m(\u001b[0m\u001b[1;33m[\u001b[0m\u001b[1;33m[\u001b[0m\u001b[1;33m[\u001b[0m\u001b[1;36m1\u001b[0m\u001b[1;33m,\u001b[0m\u001b[1;36m2\u001b[0m\u001b[1;33m,\u001b[0m\u001b[1;36m3\u001b[0m\u001b[1;33m]\u001b[0m\u001b[1;33m,\u001b[0m\u001b[1;33m[\u001b[0m\u001b[1;36m4\u001b[0m\u001b[1;33m,\u001b[0m\u001b[1;36m5\u001b[0m\u001b[1;33m,\u001b[0m\u001b[1;36m6\u001b[0m\u001b[1;33m]\u001b[0m\u001b[1;33m]\u001b[0m\u001b[1;33m,\u001b[0m\u001b[1;33m[\u001b[0m\u001b[1;33m[\u001b[0m\u001b[1;36m1\u001b[0m\u001b[1;33m,\u001b[0m\u001b[1;36m2\u001b[0m\u001b[1;33m,\u001b[0m\u001b[1;36m3\u001b[0m\u001b[1;33m]\u001b[0m\u001b[1;33m,\u001b[0m\u001b[1;33m[\u001b[0m\u001b[1;36m4\u001b[0m\u001b[1;33m,\u001b[0m\u001b[1;36m5\u001b[0m\u001b[1;33m,\u001b[0m\u001b[1;36m6\u001b[0m\u001b[1;33m]\u001b[0m\u001b[1;33m]\u001b[0m\u001b[1;33m]\u001b[0m\u001b[1;33m)\u001b[0m\u001b[1;33m\u001b[0m\u001b[0m\n\u001b[0m\u001b[0;32m      4\u001b[0m \u001b[0mprint\u001b[0m\u001b[1;33m(\u001b[0m\u001b[0mmat\u001b[0m\u001b[1;33m)\u001b[0m\u001b[1;33m\u001b[0m\u001b[0m\n",
      "\u001b[1;32mc:\\program files\\python36\\lib\\site-packages\\numpy\\matrixlib\\defmatrix.py\u001b[0m in \u001b[0;36masmatrix\u001b[1;34m(data, dtype)\u001b[0m\n\u001b[0;32m     62\u001b[0m \u001b[1;33m\u001b[0m\u001b[0m\n\u001b[0;32m     63\u001b[0m     \"\"\"\n\u001b[1;32m---> 64\u001b[1;33m     \u001b[1;32mreturn\u001b[0m \u001b[0mmatrix\u001b[0m\u001b[1;33m(\u001b[0m\u001b[0mdata\u001b[0m\u001b[1;33m,\u001b[0m \u001b[0mdtype\u001b[0m\u001b[1;33m=\u001b[0m\u001b[0mdtype\u001b[0m\u001b[1;33m,\u001b[0m \u001b[0mcopy\u001b[0m\u001b[1;33m=\u001b[0m\u001b[1;32mFalse\u001b[0m\u001b[1;33m)\u001b[0m\u001b[1;33m\u001b[0m\u001b[0m\n\u001b[0m\u001b[0;32m     65\u001b[0m \u001b[1;33m\u001b[0m\u001b[0m\n\u001b[0;32m     66\u001b[0m \u001b[1;32mdef\u001b[0m \u001b[0mmatrix_power\u001b[0m\u001b[1;33m(\u001b[0m\u001b[0mM\u001b[0m\u001b[1;33m,\u001b[0m \u001b[0mn\u001b[0m\u001b[1;33m)\u001b[0m\u001b[1;33m:\u001b[0m\u001b[1;33m\u001b[0m\u001b[0m\n",
      "\u001b[1;32mc:\\program files\\python36\\lib\\site-packages\\numpy\\matrixlib\\defmatrix.py\u001b[0m in \u001b[0;36m__new__\u001b[1;34m(subtype, data, dtype, copy)\u001b[0m\n\u001b[0;32m    238\u001b[0m         \u001b[0mshape\u001b[0m \u001b[1;33m=\u001b[0m \u001b[0marr\u001b[0m\u001b[1;33m.\u001b[0m\u001b[0mshape\u001b[0m\u001b[1;33m\u001b[0m\u001b[0m\n\u001b[0;32m    239\u001b[0m         \u001b[1;32mif\u001b[0m \u001b[1;33m(\u001b[0m\u001b[0mndim\u001b[0m \u001b[1;33m>\u001b[0m \u001b[1;36m2\u001b[0m\u001b[1;33m)\u001b[0m\u001b[1;33m:\u001b[0m\u001b[1;33m\u001b[0m\u001b[0m\n\u001b[1;32m--> 240\u001b[1;33m             \u001b[1;32mraise\u001b[0m \u001b[0mValueError\u001b[0m\u001b[1;33m(\u001b[0m\u001b[1;34m\"matrix must be 2-dimensional\"\u001b[0m\u001b[1;33m)\u001b[0m\u001b[1;33m\u001b[0m\u001b[0m\n\u001b[0m\u001b[0;32m    241\u001b[0m         \u001b[1;32melif\u001b[0m \u001b[0mndim\u001b[0m \u001b[1;33m==\u001b[0m \u001b[1;36m0\u001b[0m\u001b[1;33m:\u001b[0m\u001b[1;33m\u001b[0m\u001b[0m\n\u001b[0;32m    242\u001b[0m             \u001b[0mshape\u001b[0m \u001b[1;33m=\u001b[0m \u001b[1;33m(\u001b[0m\u001b[1;36m1\u001b[0m\u001b[1;33m,\u001b[0m \u001b[1;36m1\u001b[0m\u001b[1;33m)\u001b[0m\u001b[1;33m\u001b[0m\u001b[0m\n",
      "\u001b[1;31mValueError\u001b[0m: matrix must be 2-dimensional"
     ]
    }
   ],
   "source": [
    "#矩阵必须是二维的，与数组不同\n",
    "import numpy as np\n",
    "mat = np.mat([[[1,2,3],[4,5,6]],[[1,2,3],[4,5,6]]])\n",
    "print(mat)"
   ]
  },
  {
   "cell_type": "code",
   "execution_count": 35,
   "metadata": {
    "hidden": true
   },
   "outputs": [
    {
     "name": "stdout",
     "output_type": "stream",
     "text": [
      "2\n"
     ]
    }
   ],
   "source": [
    "import numpy as np\n",
    "mat = np.mat([1,2,3])\n",
    "print(mat.ndim)"
   ]
  },
  {
   "cell_type": "markdown",
   "metadata": {
    "heading_collapsed": true,
    "hidden": true
   },
   "source": [
    "### 矩阵的方法和属性"
   ]
  },
  {
   "cell_type": "code",
   "execution_count": 36,
   "metadata": {
    "hidden": true
   },
   "outputs": [
    {
     "name": "stdout",
     "output_type": "stream",
     "text": [
      "---------内积----------\n",
      "[[19 22]\n",
      " [43 50]]\n",
      "---------转置----------\n",
      "[[1 3]\n",
      " [2 4]]\n",
      "---------逆矩阵--------\n",
      "[[-2.   1. ]\n",
      " [ 1.5 -0.5]]\n",
      "---------共轭----------\n",
      "[[1 3]\n",
      " [2 4]]\n",
      "-----矩阵的迹，即对角线之和-----\n",
      "[[5]]\n",
      "-------对角线元素--------\n",
      "[[1 4]]\n",
      "-------求mat1*x=y中的x-----\n",
      "[[ 1.  -4. ]\n",
      " [ 0.   4.5]]\n",
      "--------矩阵的行列式--------\n",
      "-2.0000000000000004\n",
      "--------矩阵的特征值--------\n",
      "[-0.37228132  5.37228132]\n",
      "------特征值和特征向量-------\n",
      "(array([-0.37228132,  5.37228132]), matrix([[-0.82456484, -0.41597356],\n",
      "        [ 0.56576746, -0.90937671]]))\n"
     ]
    }
   ],
   "source": [
    "import numpy as np\n",
    "mat1 = np.mat([[1,2],[3,4]])\n",
    "mat2 = np.mat([[5,6],[7,8]])\n",
    "print('---------内积----------')\n",
    "#第一个矩阵的列数必须与第二个矩阵的行数相等，与数组的乘积不同\n",
    "print(mat1*mat2)\n",
    "print('---------转置----------')\n",
    "print(mat1.T)\n",
    "#数组没有逆矩阵、共轭、迹等说法\n",
    "print('---------逆矩阵--------')\n",
    "print(mat1.I)\n",
    "print('---------共轭----------')\n",
    "print(mat1.H)\n",
    "print('-----矩阵的迹，即对角线之和-----')\n",
    "print(mat1.trace())\n",
    "print('-------对角线元素--------')\n",
    "print(mat1.diagonal())\n",
    "print('-------求mat1*x=y中的x-----')\n",
    "y = np.mat([[1,5],[3,6]])\n",
    "print(np.linalg.solve(mat1,y))\n",
    "print('--------矩阵的行列式--------')\n",
    "print(np.linalg.det(mat1))\n",
    "print('--------矩阵的特征值--------')\n",
    "print(np.linalg.eigvals(mat1))\n",
    "print('------特征值和特征向量-------')\n",
    "print(np.linalg.eig(mat1))"
   ]
  },
  {
   "cell_type": "markdown",
   "metadata": {
    "heading_collapsed": true,
    "hidden": true
   },
   "source": [
    "## 概率分布"
   ]
  },
  {
   "cell_type": "code",
   "execution_count": 37,
   "metadata": {
    "hidden": true
   },
   "outputs": [
    {
     "data": {
      "image/png": "[encoded data removed]",
      "text/plain": [
       "<Figure size 432x288 with 1 Axes>"
      ]
     },
     "metadata": {},
     "output_type": "display_data"
    }
   ],
   "source": [
    "%matplotlib inline\n",
    "import matplotlib.pyplot as plt\n",
    "import numpy as np\n",
    "#产生10000个均值为3，标准差为0.5的正态分布的随机数\n",
    "val = np.random.normal(3,0.5,10000)\n",
    "plt.hist(val,bins=50,density=1)\n",
    "plt.show()"
   ]
  },
  {
   "cell_type": "code",
   "execution_count": 38,
   "metadata": {
    "hidden": true
   },
   "outputs": [
    {
     "name": "stdout",
     "output_type": "stream",
     "text": [
      "[ 1.    3.25  5.5   7.75 10.  ]\n",
      "[0 1 2 3 4 5 6 7]\n"
     ]
    }
   ],
   "source": [
    "import numpy as np\n",
    "#在[1,10]之间平均取5个值创建数组\n",
    "arr1 = np.linspace(1,10,5)\n",
    "arr2 = np.arange(8).reshape(2,2,2)\n",
    "#多维转一维\n",
    "arr2 = arr2.ravel()\n",
    "print(arr1)\n",
    "print(arr2)"
   ]
  },
  {
   "cell_type": "code",
   "execution_count": null,
   "metadata": {
    "hidden": true
   },
   "outputs": [],
   "source": []
  }
 ],
 "metadata": {
  "kernelspec": {
   "display_name": "Python 3",
   "language": "python",
   "name": "python3"
  },
  "language_info": {
   "codemirror_mode": {
    "name": "ipython",
    "version": 3
   },
   "file_extension": ".py",
   "mimetype": "text/x-python",
   "name": "python",
   "nbconvert_exporter": "python",
   "pygments_lexer": "ipython3",
   "version": "3.6.4"
  }
 },
 "nbformat": 4,
 "nbformat_minor": 2
}
